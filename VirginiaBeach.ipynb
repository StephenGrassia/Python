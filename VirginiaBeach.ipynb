{
 "cells": [
  {
   "cell_type": "markdown",
   "metadata": {},
   "source": [
    "# Virginia Beach Incident Report - Data Analysis"
   ]
  },
  {
   "cell_type": "markdown",
   "metadata": {},
   "source": [
    "### Table of Contents\n",
    "- 0. Introduction\n",
    "- 1. Import Libraries\n",
    "- 2. Set Variables\n",
    "- 3. Data Clean-Up\n",
    "- 4. Data Analysis + Visualization\n",
    "    - 4.1. What top 5 dates have recored the most incidents? What was the top date?\n",
    "    - 4.2. Which days/months have the highest number of total police incidents?\n",
    "    - 4.3. What are the top 5 incidents?\n",
    "    - 4.4. Which days/months have the highest number of total police incidents for each of the top 5 incidents?\n",
    "    - 4.5. Top 5 Dates for each of the top five incidents."
   ]
  },
  {
   "cell_type": "markdown",
   "metadata": {},
   "source": [
    "### Introduction\n",
    "\n",
    "Virginia Beach, Virginia is an independent city in the Hampton Roads Region in SouthEastern Virginia. With a population of roughly 450,000, it is the largest city in the Commonwealth of Virginia, and the 42nd most populous\n",
    "city in the United States. It has the longest pleasure beach in the world, 28 miles, making Virginia Beach a tourist destination. Even though it is a large city, its population is mainly suburban with the main \"urban\" areas being the OceanFront, and Town Center. \n",
    "\n",
    "Virginia Beach has been constantly ranked as one of the safest big cities. However, like with every city, there is crime. Utilizing the \"Virginia Beach Police Incident\" dataset from the \"Virginia Beach Open Data\" portal, we will analyze crime in Virginia Beach from 2018 - 2023.\n",
    "\n",
    "Took inspiration from [Alaa Mohamedahmed](https://github.com/alaa-mohamedahmed/mtl-crime-data/blob/main/Montreal%20Crime%20Data%20Analysis%20(2015-2021).ipynb). Highly recommend you check out her work."
   ]
  },
  {
   "cell_type": "markdown",
   "metadata": {},
   "source": [
    "### 1. Import Libraries"
   ]
  },
  {
   "cell_type": "code",
   "execution_count": null,
   "metadata": {},
   "outputs": [],
   "source": [
    "import os\n",
    "import pandas as pd \n",
    "import seaborn as sns \n",
    "import numpy as np \n",
    "import matplotlib.pyplot as plt \n",
    "%matplotlib inline"
   ]
  },
  {
   "cell_type": "markdown",
   "metadata": {},
   "source": [
    "### 2. Set Variables"
   ]
  },
  {
   "cell_type": "code",
   "execution_count": null,
   "metadata": {},
   "outputs": [],
   "source": [
    "# Set Variables\n",
    "ws = \"C:/Desktop/VSCODE/VirginiaBeach/\"\n",
    "\n",
    "# Read in dataset\n",
    "inCSV_one = os.path.join(ws, \"VirginiaBeachIncidentReport.csv\")\n",
    "inCSV_two = os.path.join(ws, \"MasterCodeList.csv\")"
   ]
  },
  {
   "cell_type": "markdown",
   "metadata": {},
   "source": [
    "### 3. Data Clean-Up"
   ]
  },
  {
   "cell_type": "code",
   "execution_count": null,
   "metadata": {},
   "outputs": [],
   "source": [
    "# Read in datasets\n",
    "data = pd.read_csv(inCSV_one)\n",
    "code_list = pd.read_csv(inCSV_two)\n",
    "data.head()"
   ]
  },
  {
   "cell_type": "code",
   "execution_count": null,
   "metadata": {},
   "outputs": [],
   "source": [
    "# Lets look at the list of offense description to see if there are any discrempancies \n",
    "offense_list = data['Offense_Description'].unique().tolist()\n",
    "offense_list.sort()\n",
    "offense_list"
   ]
  },
  {
   "cell_type": "markdown",
   "metadata": {},
   "source": [
    "By looking at the list, there are several instances of more than one itteration of each 'Offense_Description' for each 'Offense_Code'. This can negativly influence analysis. Lets merge the 'MasterCodeList' to the 'VirginiaBeachIncidentReport' dataframe. This can me done with \"Merge\""
   ]
  },
  {
   "cell_type": "code",
   "execution_count": null,
   "metadata": {},
   "outputs": [],
   "source": [
    "# Merge the code list to the incident report dataframe using the 'Offense_Code' field in both tables\n",
    "merged_data = data.merge(code_list, on='Offense_Code')\n",
    "merged_data.head()"
   ]
  },
  {
   "cell_type": "code",
   "execution_count": null,
   "metadata": {},
   "outputs": [],
   "source": [
    "offense_list = merged_data['Description'].unique().tolist()\n",
    "offense_list.sort()\n",
    "offense_list"
   ]
  },
  {
   "cell_type": "code",
   "execution_count": null,
   "metadata": {},
   "outputs": [],
   "source": [
    "# Find column data types\n",
    "merged_data.info()"
   ]
  },
  {
   "cell_type": "markdown",
   "metadata": {},
   "source": [
    "Notice how \"Date_Occurred\", and \"Date_Found\" is an object, even though tey are both dates.Remember that for Data Clean-Up"
   ]
  },
  {
   "cell_type": "code",
   "execution_count": null,
   "metadata": {},
   "outputs": [],
   "source": [
    "# Check for NaN values\n",
    "pd.DataFrame(merged_data.isnull().sum())"
   ]
  },
  {
   "cell_type": "markdown",
   "metadata": {},
   "source": [
    "For me personally, I like to leave NaN or null values because they can be useful in storytelling"
   ]
  },
  {
   "cell_type": "code",
   "execution_count": null,
   "metadata": {},
   "outputs": [],
   "source": [
    "# Converting datatypes to required format\n",
    "merged_data['Date_Occurred'] = pd.to_datetime(merged_data['Date_Occurred'])\n",
    "merged_data['year'], merged_data['month'], merged_data['day_of_week'] = merged_data['Date_Occurred'].dt.year, merged_data['Date_Occurred'].dt.month, merged_data['Date_Occurred'].dt.dayofweek"
   ]
  },
  {
   "cell_type": "code",
   "execution_count": null,
   "metadata": {},
   "outputs": [],
   "source": [
    "dmap = {0:'Mon',1:'Tue',2:'Wed',3:'Thu',4:'Fri',5:'Sat',6:'Sun'}\n",
    "merged_data['day_of_week'] = merged_data['day_of_week'].map(dmap)"
   ]
  },
  {
   "cell_type": "markdown",
   "metadata": {},
   "source": [
    "### 4. Data Analysis + Visualization"
   ]
  },
  {
   "cell_type": "markdown",
   "metadata": {},
   "source": [
    "#### 4.1 What top 5 dates have recored the most incidents? What was the top date?"
   ]
  },
  {
   "cell_type": "code",
   "execution_count": null,
   "metadata": {},
   "outputs": [],
   "source": [
    "top_dates = merged_data.groupby(['Date_Occurred']).Date_Occurred.value_counts().nlargest(5)\n",
    "top_dates"
   ]
  },
  {
   "cell_type": "markdown",
   "metadata": {},
   "source": [
    "Q. What top 5 dates have recored the most incidents? What was the top date?\n",
    "\n",
    "A. January 1st, 2021 has the highest count of police incidents in Virginia Beach since 2018. 4 out of 5 occurred on New Years Day\n",
    "\n",
    "Lets did deeper, and find out what crimes were committed on January 1st, 2021"
   ]
  },
  {
   "cell_type": "code",
   "execution_count": null,
   "metadata": {},
   "outputs": [],
   "source": [
    "jan012021 = merged_data.loc[merged_data['Date_Occurred'] == '2021-01-01']\n",
    "top_crimes_jan012021 = jan012021.groupby(['Description', 'Offense_Code']).Date_Occurred.value_counts().nlargest(5)\n",
    "top_crimes_jan012021"
   ]
  },
  {
   "cell_type": "markdown",
   "metadata": {},
   "source": [
    "***\n",
    "#### 4.2 Which days/months have the highest number of total police incidents?\n",
    "\n",
    "Some people are starting the year off with fighting. But a lot more people are stealing identities. \n",
    "\n",
    "Lets now create a temporal heat map to visualize how crime since 2018 are temporally.\n",
    "\n",
    "*Q. Which days/months have the highest number of total police incidents?*"
   ]
  },
  {
   "cell_type": "code",
   "execution_count": null,
   "metadata": {},
   "outputs": [],
   "source": [
    "merged_data['num'] = 1\n",
    "dayMonth = merged_data.groupby(by=['day_of_week', 'month']).count()['num'].unstack()\n",
    "plt.figure(figsize=(12,6))\n",
    "sns.heatmap(dayMonth,cmap='coolwarm')\n",
    "\n",
    "plt.title(\"Temporal Heat Map of Crime in Virginia Beach\")\n",
    "plt.xlabel(\"Month\")\n",
    "plt.ylabel(\"Day of the Week\")\n",
    "\n",
    "plt.tight_layout()\n",
    "plt.show()"
   ]
  },
  {
   "cell_type": "markdown",
   "metadata": {},
   "source": [
    "Q. Which days/months have the highest number of total police incidents?\n",
    "\n",
    "A. Saturdays, and Fridays in July"
   ]
  },
  {
   "cell_type": "markdown",
   "metadata": {},
   "source": [
    "***\n",
    "#### 4.3 Top 5 incidents?\n",
    "\n",
    "*Q. What are the top 5 incidents?*"
   ]
  },
  {
   "cell_type": "code",
   "execution_count": null,
   "metadata": {},
   "outputs": [],
   "source": [
    "top_offense = merged_data.groupby(['Description', 'Offense_Code']).Description.value_counts().nlargest(5)\n",
    "top_offense"
   ]
  },
  {
   "cell_type": "markdown",
   "metadata": {},
   "source": [
    "*Q. What are the top 5 incidents?*\n",
    "\n",
    "*A. It looks like \"Larceny, from Motor Vehicle\" has the most reports. Don't keep anything valuable in your car.*"
   ]
  },
  {
   "cell_type": "markdown",
   "metadata": {},
   "source": [
    "***\n",
    "#### 4.4. Which days/months have the highest number of total police incidents for each of the top 5 incidents?\n",
    "Lets create a helper function to take the 'Offense_Codes' that cooresponds to each of the top \"Descriptions\", and create heatmaps for each one\n",
    "\n",
    "*Q. Which days/months have the highest number of total police incidents for each of the top 5 incidents?*"
   ]
  },
  {
   "cell_type": "code",
   "execution_count": null,
   "metadata": {},
   "outputs": [],
   "source": [
    "def heatmap(crime_code,name):\n",
    "    crime_name = merged_data.loc[merged_data['Offense_Code'] == crime_code]\n",
    "    dayMonth = crime_name.groupby(by=['day_of_week', 'month']).count()['num'].unstack()\n",
    "    plt.figure(figsize=(15,6))   \n",
    "    heat_map = sns.heatmap(dayMonth,cmap='coolwarm')\n",
    "    plt.title(name)\n",
    "    plt.xlabel(\"Month\")\n",
    "    plt.ylabel(\"Day of the Week\")\n",
    "    return heatmap\n",
    "\n",
    "print( heatmap('23F', 'Temporal HeatMap of Larceny of Motor Vehicle Incidents '))\n",
    "print( heatmap('13B1', 'Temporal HeatMap of Simple Assault Incidents' ))\n",
    "print( heatmap('90ZC', 'Temporal HeatMap of Hit & Run Incidents' ))\n",
    "print( heatmap('290B', 'Temporal HeatMap of Desctruction of Private Property Incidents' ))\n",
    "print( heatmap('13B2', 'Temporal HeatMap of Domestic Simple Assault Incidents' ))"
   ]
  },
  {
   "cell_type": "markdown",
   "metadata": {},
   "source": [
    "Q. Which days/months have the highest number of total police incidents for each of the top 5 incidents?\n",
    "\n",
    "A. \n",
    "- Larceny, From Motor Vehicle: Mondays, and Sundays in July\n",
    "- Simple Assault: Saturdays in June, and Sundays in August\n",
    "- Hit & Run: Saturdays in June, and Fridays in July\n",
    "- Destruction of Property, Private Property: Fridays in July\n",
    "- Simple Domestic Assault: Saturdays in July, but Sundays throughout the year have consistently have high counts\n",
    "\n",
    "Take Away: Stay home on the weekend in July (My birth month)\n",
    "   "
   ]
  },
  {
   "cell_type": "markdown",
   "metadata": {},
   "source": [
    "***\n",
    "#### 4.5 Top 5 Dates for each of the top five incidents\n",
    "\n",
    "*Q. What are the Top 5 Dates for each of the Top 5 Incidents?*"
   ]
  },
  {
   "cell_type": "code",
   "execution_count": null,
   "metadata": {},
   "outputs": [],
   "source": [
    "def top_dates(crime_code,name):\n",
    "    dates_filter = merged_data.loc[merged_data['Offense_Code'] == crime_code]\n",
    "    dates_top5 = dates_filter['Date_Occurred'].value_counts().nlargest(5)\n",
    "    df = pd.DataFrame(dates_top5)\n",
    "    df = df.sort_values('Date_Occurred')\n",
    "    sns.barplot(x='Date_Occurred', y='count', data=df, order=df.index)\n",
    "    plt.title(name)\n",
    "    plt.xlabel(\"Date\")\n",
    "    plt.ylabel(\"Count\")\n",
    "    plt.tight_layout()\n",
    "    plt.show()\n",
    "    return top_dates\n",
    "\n",
    "\n",
    "print( top_dates('23F', 'Larceny of Motor Vehicle Incidents' ))\n",
    "print( top_dates('13B1', 'Simple Assault Incidents' ))\n",
    "print( top_dates('90ZC', 'Hit & Run Incidents' ))\n",
    "print( top_dates('290B', 'Destruction of Private Property Incidents' ))\n",
    "print( top_dates('13B2', 'Domestic Simple Assault Incidents' ))"
   ]
  }
 ],
 "metadata": {
  "kernelspec": {
   "display_name": "Python 3",
   "language": "python",
   "name": "python3"
  },
  "language_info": {
   "codemirror_mode": {
    "name": "ipython",
    "version": 3
   },
   "file_extension": ".py",
   "mimetype": "text/x-python",
   "name": "python",
   "nbconvert_exporter": "python",
   "pygments_lexer": "ipython3",
   "version": "3.12.0"
  }
 },
 "nbformat": 4,
 "nbformat_minor": 2
}
