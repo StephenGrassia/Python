{
 "cells": [
  {
   "cell_type": "markdown",
   "metadata": {},
   "source": [
    "# Analysis of Crime in Virginia Beach, Virginia"
   ]
  },
  {
   "cell_type": "markdown",
   "metadata": {},
   "source": [
    "Purpose: Learn different python tools with **Virginia Beach Crime** dataset\n",
    "\n",
    "Took inspiration from [Alaa Mohamedahmed](https://github.com/alaa-mohamedahmed/mtl-crime-data/blob/main/Montreal%20Crime%20Data%20Analysis%20(2015-2021).ipynb). Highly recommend you check out her work.\n",
    "\n",
    "_Original dataset is available from the [Virginia Beach Open Data Portal](https://data.virginiabeach.gov/datasets/67bc708103e746f18e216c32ba39febe_0/about)_\n"
   ]
  },
  {
   "cell_type": "code",
   "execution_count": null,
   "metadata": {},
   "outputs": [],
   "source": [
    "# Import packages\n",
    "\n",
    "import pandas as pd\n",
    "import numpy as np\n",
    "import os\n",
    "import seaborn as sns\n",
    "import matplotlib.pyplot as plt\n",
    "%matplotlib inline"
   ]
  },
  {
   "cell_type": "code",
   "execution_count": null,
   "metadata": {},
   "outputs": [],
   "source": [
    "pd.options.display.max_rows = None"
   ]
  },
  {
   "cell_type": "markdown",
   "metadata": {},
   "source": [
    "## Explore the data"
   ]
  },
  {
   "cell_type": "code",
   "execution_count": null,
   "metadata": {},
   "outputs": [],
   "source": [
    "# Read in crime dataset\n",
    "crime = pd.read_csv(r'D:\\Projects\\Learning\\VSCode\\Crime\\vbcrime.csv') \n",
    "\n",
    "# Look at first 5 rows\n",
    "crime.head()                  "
   ]
  },
  {
   "cell_type": "code",
   "execution_count": null,
   "metadata": {},
   "outputs": [],
   "source": [
    "# Find data types\n",
    "crime.info()"
   ]
  },
  {
   "cell_type": "code",
   "execution_count": null,
   "metadata": {},
   "outputs": [],
   "source": [
    "# Check Unique values\n",
    "crime.groupby('Offense_Description')['Offense_Code'].unique()"
   ]
  },
  {
   "cell_type": "markdown",
   "metadata": {},
   "source": [
    "As you can see, there are multiple variations of _Offense_Description_ per _Offense_Code_.\n",
    "\n",
    "For example:\n",
    ">OVERDOSE - DEATH = 90ZK\n",
    "\n",
    ">OVERDOSE DEATH = 90ZK\n",
    "\n",
    "We want to normalize _Offense_Description_ into a single value\n",
    ">Overdose = 90ZK\n",
    "\n",
    "But first, lets preform basic house cleaning "
   ]
  },
  {
   "cell_type": "markdown",
   "metadata": {},
   "source": [
    "***\n",
    "### Clean up dataset\n",
    "***"
   ]
  },
  {
   "cell_type": "code",
   "execution_count": null,
   "metadata": {},
   "outputs": [],
   "source": [
    "# remove unwanted columns\n",
    "crime.drop(['IncidentNumber', 'Date_Found', 'Zone_ID', 'Precinct'], axis=1, inplace=True)"
   ]
  },
  {
   "cell_type": "code",
   "execution_count": null,
   "metadata": {},
   "outputs": [],
   "source": [
    "# find and remove rows with NaN values\n",
    "pd.DataFrame(crime.isnull().sum())\n",
    "\n",
    "crime = crime.dropna()"
   ]
  },
  {
   "cell_type": "code",
   "execution_count": null,
   "metadata": {},
   "outputs": [],
   "source": [
    "# Convert to Date\n",
    "crime['Date_Occurred'] = pd.to_datetime(crime['Date_Occurred'])\n",
    "                                      "
   ]
  },
  {
   "cell_type": "markdown",
   "metadata": {},
   "source": [
    "***\n",
    "### Subset crime\n",
    "***"
   ]
  },
  {
   "cell_type": "markdown",
   "metadata": {},
   "source": [
    "The following code we will:\n",
    ">1. Create a new dataframe that has only a couple _Offense_Code_.\n",
    ">2. Normalize the _Offense_Description_ values."
   ]
  },
  {
   "cell_type": "code",
   "execution_count": null,
   "metadata": {},
   "outputs": [],
   "source": [
    "crime.info()"
   ]
  },
  {
   "cell_type": "code",
   "execution_count": null,
   "metadata": {},
   "outputs": [],
   "source": [
    "# Create a new dataframe containing select crimes\n",
    "year_crime = crime.loc[(crime.Offense_Code == '09A') | (crime.Offense_Code == '13B2') | (crime.Offense_Code == '35A1') | (crime.Offense_Code == '11A') | (crime.Offense_Code == '90ZK') | (crime.Offense_Code == '23C') | (crime.Offense_Code == '120A') | (crime.Offense_Code == '13B1')]\n",
    "\n",
    "# The \"|\" means \"OR\" \n",
    "\n",
    "# Normalize data to ensure Offense Description is the same for each Offense Code\n",
    "year_crime['Offense_Description'].mask(year_crime['Offense_Code'] == '13B2', \"Simple Domestic Assult\", inplace=True)\n",
    "year_crime['Offense_Description'].mask(year_crime['Offense_Code'] == \"13B1\", \"Simple Assult\", inplace=True)  \n",
    "year_crime['Offense_Description'].mask(year_crime['Offense_Code'] == '35A1', \"Drug / Narcotic Violations\", inplace=True)\n",
    "year_crime['Offense_Description'].mask(year_crime['Offense_Code'] == '09A', \"Murder\", inplace=True) \n",
    "year_crime['Offense_Description'].mask(year_crime['Offense_Code'] == \"11A\", \"Rape\", inplace=True)\n",
    "year_crime['Offense_Description'].mask(year_crime['Offense_Code'] == \"90ZK\", \"Overdose\", inplace=True)\n",
    "year_crime['Offense_Description'].mask(year_crime['Offense_Code'] == \"23C\", \"Shoplifting\", inplace=True) \n",
    "year_crime['Offense_Description'].mask(year_crime['Offense_Code'] == \"120A\", \"Robbery\", inplace=True) \n",
    "\n",
    "# Extract year into new field\n",
    "year_crime['year'] = year_crime['Date_Occurred'].dt.year"
   ]
  },
  {
   "cell_type": "markdown",
   "metadata": {},
   "source": [
    "year_crime['Offense_Description'].mask --> selects which column to normalize the condition, (year_crime['Offense_Code] == '13B2) --> selects the _'Offense_Code_, \"Simple Domestic Assult\" --> name of new vlaues to be put in _'Offense_Description'_"
   ]
  },
  {
   "cell_type": "code",
   "execution_count": null,
   "metadata": {},
   "outputs": [],
   "source": [
    "year_crime.head()"
   ]
  },
  {
   "cell_type": "markdown",
   "metadata": {},
   "source": [
    "***\n",
    "### Plot by Year\n",
    "***\n"
   ]
  },
  {
   "cell_type": "code",
   "execution_count": null,
   "metadata": {},
   "outputs": [],
   "source": [
    "# Create color palette\n",
    "custom_colors = [\"#ff0000\", \"#ffa500\", \"#ffff00\", \"#22d933\", \"#004aad\", \"#8a2be2\", \"#9c6860\", \"#261c00\"]\n",
    "\n",
    "# Graph\n",
    "plt.figure(figsize=(20, 10))\n",
    "ax = sns.countplot(data=year_crime, x='year', hue='Offense_Description', palette=custom_colors, hue_order=[\"Simple Assult\", \"Simple Domestic Assult\", \"Shoplifting\", \"Robbery\", \"Drug / Narcotic Violations\", \"Overdose\", \"Rape\", \"Murder\"])\n",
    "\n",
    "# Legend items\n",
    "legend_labels = [\"Simple Assult\", \"Simple Domestic Assult\", \"Shoplifting\", \"Robbery\", \"Drug / Narcotic Violations\", \"Overdose\", \"Rape\", \"Murder\"]\n",
    "ax.legend(title=\"Offense Description\", labels=legend_labels)\n",
    "\n",
    "# add labels\n",
    "plt.xlabel('Year')\n",
    "plt.ylabel('Count')\n",
    "plt.title('Distribution of Crime in Virginia Beach (2018-2023)')\n",
    "\n",
    "# Display\n",
    "plt.tight_layout()\n",
    "plt.show()"
   ]
  }
 ],
 "metadata": {
  "kernelspec": {
   "display_name": "Python 3",
   "language": "python",
   "name": "python3"
  },
  "language_info": {
   "codemirror_mode": {
    "name": "ipython",
    "version": 3
   },
   "file_extension": ".py",
   "mimetype": "text/x-python",
   "name": "python",
   "nbconvert_exporter": "python",
   "pygments_lexer": "ipython3",
   "version": "3.11.5"
  }
 },
 "nbformat": 4,
 "nbformat_minor": 2
}
